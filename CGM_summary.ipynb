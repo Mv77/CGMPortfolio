{
 "cells": [
  {
   "cell_type": "markdown",
   "metadata": {},
   "source": [
    "# Cocco, Gomes & Maenhout"
   ]
  },
  {
   "cell_type": "markdown",
   "metadata": {},
   "source": [
    "# \"[Consumption and Portfolio Choice over the Life Cycle](https://academic.oup.com/rfs/article-abstract/18/2/491/1599892)\"\n",
    "\n",
    "- Notebook created by Mateo Velásquez-Giraldo\n",
    "- All figures and tables were taken from the linked paper."
   ]
  },
  {
   "cell_type": "markdown",
   "metadata": {},
   "source": [
    "### Summary\n",
    "\n"
   ]
  },
  {
   "cell_type": "markdown",
   "metadata": {},
   "source": [
    "### Overview \n",
    "\n",
    "\n",
    "#### Rate-of-return heterogeneity\n",
    "\n",
    "\n",
    "\n",
    "#### Non-technical methodological overview\n",
    "\n",
    "\n",
    "\n",
    "#### The two main effect of wealth taxation\n",
    "\n"
   ]
  },
  {
   "cell_type": "markdown",
   "metadata": {},
   "source": [
    "### The model\n",
    "\n",
    "#### Households/entrepreneurs\n",
    "\n",
    "\n",
    "#### Labor and entrepreneurial productivity\n",
    "\n",
    "#### The individuals' decision problems\n",
    "\n",
    "##### Static production/allocation problem\n",
    "\n",
    "##### Dynamic problem\n",
    "\n",
    "The problem and value function of a household of age $h$ is given by\n",
    "\n",
    "\\begin{align}\n",
    "    V_h(a;\\mathbf{S}) = &\\max_{c,l,a'} u(c,1-l) + \\beta\\frac{\\phi_{h+1}}{\\phi_{h}} \\mathbb{E}[V_{h+1}(a',\\mathbf{S}')|S]\\\\\n",
    "    \\text{s.t.} \\quad & a' = \\mathcal{Y}(a,l;z,e,\\kappa;\\mathcal{T}) - c(1+\\tau_c)\\\\\n",
    "    & a'\\geq 0\n",
    "\\end{align}\n",
    "\n",
    "where $\\mathcal{Y}$ denotes the total disposable income of the individual after production and taxation, $\\mathbf{S}$ is the vector of individual exogenous states, and $\\mathcal{T}$ represents the tax system.\n"
   ]
  },
  {
   "cell_type": "markdown",
   "metadata": {},
   "source": [
    "### Results\n",
    "\n",
    "The authors conduct various experiments. We now report the main ones."
   ]
  },
  {
   "cell_type": "markdown",
   "metadata": {},
   "source": [
    "### Conclusion\n",
    "\n",
    "In the presence of rate-of-return heterogeneity, capital income taxes disproportionately affect productive entrepreneurs. Switching to wealth taxation moves the tax burden towards unproductive entrepreneurs and increases after-tax return heterogeneity, which elicits a reallocation of capital towards productive entrepreneurs. The increased efficiency and the expanded tax base increase output and allow the government to reduce labor income taxes. The authors therefore conclude that wealth taxation can increase efficiency and output while decreasing consumption inequality.\n",
    "\n",
    "Through simulation exercises calibrated to match U.S. data, the authors find that the optimal wealth tax rate is around 3%."
   ]
  }
 ],
 "metadata": {
  "jupytext": {
   "encoding": "# -*- coding: utf-8 -*-",
   "formats": "ipynb,py:percent"
  },
  "kernelspec": {
   "display_name": "Python 3",
   "language": "python",
   "name": "python3"
  },
  "language_info": {
   "codemirror_mode": {
    "name": "ipython",
    "version": 3
   },
   "file_extension": ".py",
   "mimetype": "text/x-python",
   "name": "python",
   "nbconvert_exporter": "python",
   "pygments_lexer": "ipython3",
   "version": "3.7.3"
  }
 },
 "nbformat": 4,
 "nbformat_minor": 2
}
