{
 "cells": [
  {
   "cell_type": "markdown",
   "metadata": {},
   "source": [
    "# Cocco, Gomes & Maenhout"
   ]
  },
  {
   "cell_type": "markdown",
   "metadata": {},
   "source": [
    "# \"[Consumption and Portfolio Choice over the Life Cycle](https://academic.oup.com/rfs/article-abstract/18/2/491/1599892)\"\n",
    "\n",
    "- Notebook created by Mateo Velásquez-Giraldo\n",
    "- All figures and tables were taken from the linked paper."
   ]
  },
  {
   "cell_type": "markdown",
   "metadata": {},
   "source": [
    "### Summary\n",
    "\n"
   ]
  },
  {
   "cell_type": "markdown",
   "metadata": {},
   "source": [
    "### Overview \n",
    "\n",
    "\n",
    "#### Rate-of-return heterogeneity\n",
    "\n",
    "\n",
    "\n",
    "#### Non-technical methodological overview\n",
    "\n",
    "\n",
    "\n",
    "#### The two main effect of wealth taxation\n",
    "\n"
   ]
  },
  {
   "cell_type": "markdown",
   "metadata": {},
   "source": [
    "### The base model\n",
    "\n",
    "The authors' aim is to represent the life cycle of a consumer that is exposed to uninsurable labor income risk and chooses how to allocate his savings bet\n",
    "\n",
    "##### Dynamic problem\n",
    "\n",
    "The problem of an agent $i$ of age $t$ in the base model is recursively represented as\n",
    "\n",
    "\\begin{split}\n",
    "V_{i,t} =& \\max_{0\\leq C_{i,t} \\leq X_{i,t}, \\alpha_{i,t}\\in[0,1]} U(C_{i,t}) + \\delta p_t E_t\\{ V_{i,t+1} (X_{i,t+1}) \\}\\\\\n",
    "&\\text{s.t}\\\\\n",
    "&X_{i,t+1} = Y_{i,t+1} + (X_{i,t} - C_{i,t})(\\alpha_{i,t} R_{t+1} + (1-\\alpha_{i,t})\\bar{R}_f)\n",
    "\\end{split}\n",
    "\n",
    "where $C_{i,t}$ is consumption, $\\alpha_{i,t}$ is the share of savings allocated to the risky asset, $Y_{i,t}$ is labor income, and $X_{i,t}$ represents wealth. The utility function $U(\\cdot)$ is assumed to be CRRA in the base model. The discount factor is $\\delta$ and $p_t$ is the probability of survival from $t$ to $t+1$. Death is certain at a maximum period $T$.\n",
    "\n",
    "Note that the consumer can not borrow or short-sell.\n",
    "\n",
    "#### Labor income\n",
    "\n",
    "An important driver of the paper's results is the labor income process. It is specified as follows:\n",
    "\n",
    "\\begin{equation}\n",
    "\\ln Y_{i,t} = f(t,Z_{i,t}) + v_{i,t} + \\epsilon_{i,t}, \\quad \\text{for } t\\leq K.\n",
    "\\end{equation}\n",
    "\n",
    "where $K$ is the (exogenous) age of retirement, $Z_{i,t}$ are demographic characteristics, $\\epsilon_{i,t}\\sim \\mathcal{N}(0,\\sigma^2_\\epsilon)$ is a transitory shock, and  $v_{i,t}$ is a permanent component following a random walk\n",
    "\n",
    "\\begin{equation}\n",
    "v_{i,t} = v_{i,t-1} + u_{i,t} = v_{i,t-1} + \\xi_t + \\omega_{i,t}\n",
    "\\end{equation}\n",
    "\n",
    "in which the innovation is decomposed into an aggregate ($\\xi_t$) and an idiosyncratic component ($\\omega_{i,t}$), both following mean-0 normal distributions.\n",
    "\n",
    "Post-retirement income is a constant fraction $\\lambda$ of income in the last working year $K$.\n",
    "\n",
    "A crucial aspect of the labor income process is that $f(\\cdot,\\cdot)$ is calibrated to match income profiles in the PSID, capturing the usual humped shape of income across lifetime.\n",
    "\n",
    "#### Assets and their returns\n",
    "\n",
    "There are two assets available for consumers to allocate their savings.\n",
    "\n",
    "- Bonds: paying a risk-free return $\\bar{R}_f$.\n",
    "\n",
    "- Stocks: paying a stochastic return $R_t = \\bar{R}_f + \\mu + \\eta_t$, where the stochastic component $\\eta_t \\sim \\mathcal{N}(0, \\sigma^2_\\eta)$ is allowed to be correlated with the aggregate labor income innovation $\\xi_t$."
   ]
  },
  {
   "cell_type": "markdown",
   "metadata": {},
   "source": [
    "### Results\n",
    "\n",
    "The authors conduct various experiments. We now report the main ones."
   ]
  },
  {
   "cell_type": "markdown",
   "metadata": {},
   "source": [
    "### Conclusion\n",
    "\n"
   ]
  }
 ],
 "metadata": {
  "jupytext": {
   "encoding": "# -*- coding: utf-8 -*-",
   "formats": "ipynb,py:percent"
  },
  "kernelspec": {
   "display_name": "Python 3",
   "language": "python",
   "name": "python3"
  },
  "language_info": {
   "codemirror_mode": {
    "name": "ipython",
    "version": 3
   },
   "file_extension": ".py",
   "mimetype": "text/x-python",
   "name": "python",
   "nbconvert_exporter": "python",
   "pygments_lexer": "ipython3",
   "version": "3.7.3"
  },
  "latex_envs": {
   "LaTeX_envs_menu_present": true,
   "autoclose": false,
   "autocomplete": true,
   "bibliofile": "biblio.bib",
   "cite_by": "apalike",
   "current_citInitial": 1,
   "eqLabelWithNumbers": true,
   "eqNumInitial": 1,
   "hotkeys": {
    "equation": "Ctrl-E",
    "itemize": "Ctrl-I"
   },
   "labels_anchors": false,
   "latex_user_defs": false,
   "report_style_numbering": false,
   "user_envs_cfg": false
  }
 },
 "nbformat": 4,
 "nbformat_minor": 2
}
